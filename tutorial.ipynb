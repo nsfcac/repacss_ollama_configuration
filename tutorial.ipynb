{
 "cells": [
  {
   "cell_type": "markdown",
   "id": "d9bf3a9c-1b24-4cfc-b485-9f795ca0a42c",
   "metadata": {},
   "source": [
    "\n",
    "# Ollama + Jupyter Guide\n",
    "\n",
    "Welcome! This tutorial walks you through how to connect a Jupyter notebook to an **Ollama server**, enabling you to run large language models locally — similar to interacting with the OpenAI API, but **without the cost**."
   ]
  },
  {
   "cell_type": "markdown",
   "id": "d7f3a287-7344-4e8b-8c3a-5dbf16ffb1f5",
   "metadata": {},
   "source": [
    "# 🚀 Launching the Ollama Server on Yens GPU Cluster"
   ]
  },
  {
   "cell_type": "markdown",
   "id": "2dcbbc71-2487-47af-84f2-d1e5b0cc1709",
   "metadata": {},
   "source": [
    "Before you can send any prompts or run inference, you need to start the Ollama server.\n",
    "\n",
    "\n",
    "📖  Refer to this [RCpedia blog post](https://rcpedia.stanford.edu/blog/2025/05/12/running-ollama-on-stanford-computing-clusters/) to launch your very own server!\n",
    "<br>\n"
   ]
  },
  {
   "cell_type": "code",
   "execution_count": 40,
   "id": "c0e58e22-1d9d-4ad6-ac19-a4a73291050d",
   "metadata": {},
   "outputs": [
    {
     "data": {
      "text/markdown": [
       "\n",
       "# How can we interact with this server?\n",
       "\n",
       "Once the server is running, you can interact with it by sending HTTP requests to its URL.\n",
       "\n",
       "The server is running on **http://rpg-93-7**, and you need to contact it through port **53442**.\n"
      ],
      "text/plain": [
       "<IPython.core.display.Markdown object>"
      ]
     },
     "metadata": {},
     "output_type": "display_data"
    }
   ],
   "source": [
    "import requests # This is for communicating with the HTTP server\n",
    "import json # This is for formatting the requests and returns\n",
    "import os\n",
    "import pwd\n",
    "from IPython.display import display, Markdown, JSON\n",
    "\n",
    "ollama_url = None\n",
    "\n",
    "def get_scratch_base_simple():\n",
    "    \"\"\"Get SCRATCH_BASE path by auto-detecting group name from home directory\"\"\"\n",
    "    # First try to get from environment variable\n",
    "    if 'SCRATCH_BASE' in os.environ:\n",
    "        return os.environ['SCRATCH_BASE']\n",
    "    \n",
    "    # Auto-detect group name from home directory path\n",
    "    try:\n",
    "        home_dir = pwd.getpwuid(os.getuid()).pw_dir\n",
    "        path_parts = home_dir.split('/')\n",
    "        \n",
    "        # Look for group name after 'mnt' in path like /mnt/GROUP_NAME/home/username\n",
    "        if 'mnt' in path_parts:\n",
    "            mnt_index = path_parts.index('mnt')\n",
    "            if mnt_index + 1 < len(path_parts):\n",
    "                group_name = path_parts[mnt_index + 1]\n",
    "                username = os.environ.get('USER', os.getlogin())\n",
    "                return f\"/mnt/{group_name}/home/{username}\"\n",
    "    except:\n",
    "        pass\n",
    "    \n",
    "    return f\"/mnt/REPACSS/home/{os.environ['USER']}\"\n",
    "\n",
    "SCRATCH_BASE = get_scratch_base_simple()\n",
    "# Attempt to read the host and port from scratch folder\n",
    "try:\n",
    "    with open(f\"{SCRATCH_BASE}/ollama/host.txt\") as f:\n",
    "        HOST = f.read().strip()\n",
    "    with open(f\"{SCRATCH_BASE}/ollama/port.txt\") as f:\n",
    "        PORT = f.read().strip()\n",
    "    ollama_url = f\"http://{HOST}:{PORT}\"\n",
    "except Exception as e:\n",
    "    print(\"[⚠️] Could not read host/port from scratch. If using someone else's server, manually set the `ollama_url` below.\")\n",
    "    # You can optionally provide a fallback manually here\n",
    "    # ollama_url = 'http://HOST:PORT'  # Uncomment and modify if needed\n",
    "\n",
    "# If no URL is available, raise an exception or pause\n",
    "if ollama_url is None:\n",
    "    raise ValueError(\"No Ollama server URL available. Please set `ollama_url` manually and run cell again\")\n",
    "\n",
    "# Parse server and port from the URL\n",
    "server = ':'.join(ollama_url.split(':')[0:2])\n",
    "port = ollama_url.split(':')[-1]\n",
    "\n",
    "# Display interaction information\n",
    "display(Markdown(f\"\"\"\n",
    "# How can we interact with this server?\n",
    "\n",
    "Once the server is running, you can interact with it by sending HTTP requests to its URL.\n",
    "\n",
    "The server is running on **{server}**, and you need to contact it through port **{port}**.\n",
    "\"\"\"))"
   ]
  },
  {
   "cell_type": "markdown",
   "id": "d31390ed-2d63-4929-a7c3-e790b86256b2",
   "metadata": {},
   "source": [
    "## Quick Start"
   ]
  },
  {
   "cell_type": "code",
   "execution_count": 41,
   "id": "da31dd65-4b6c-4d70-ae87-0979f2dcadb5",
   "metadata": {},
   "outputs": [
    {
     "name": "stdout",
     "output_type": "stream",
     "text": [
      "🚀 Ollama chat client is ready!\n",
      "🌐 Server URL: http://rpg-93-7:53442\n",
      "🤖 Starting chat with llama3.1:8b\n",
      "💡 Type 'quit', 'exit' or 'q' to end the conversation\n",
      "==================================================\n"
     ]
    },
    {
     "name": "stdout",
     "output_type": "stream",
     "text": [
      "\n",
      "👤 You:  what is the capital of Texas\n"
     ]
    },
    {
     "name": "stdout",
     "output_type": "stream",
     "text": [
      "🤖 AI: The capital of Texas is Austin.\n"
     ]
    },
    {
     "name": "stdout",
     "output_type": "stream",
     "text": [
      "\n",
      "👤 You:  Introduce TTU\n"
     ]
    },
    {
     "name": "stdout",
     "output_type": "stream",
     "text": [
      "🤖 AI: TTU can refer to several things, but I'll cover a few possible interpretations:\n",
      "\n",
      "1. **Texas Tech University**: Texas Tech University (TTU) is a public research university located in Lubbock, Texas, USA. It was founded in 1923 and has since grown to become one of the largest universities in the state of Texas.\n",
      "2. **Tennessee Technological University**: Tennessee Technological University (TTU), also known as TTU or Tech, is a public university located in Cookeville, Tennessee, USA. It was established in 1915 and offers a range of undergraduate and graduate degree programs.\n",
      "3. **Tallinn Technical University**: Tallinn Technical University (TTU) is a university located in Tallinn, Estonia. It's one of the largest technical universities in the Baltic countries.\n",
      "\n",
      "In general, TTU can refer to any institution or organization that uses \"TTU\" as its abbreviation or acronym. If you could provide more context or specify which TTU you're interested in, I'd be happy to provide more information!\n"
     ]
    },
    {
     "name": "stdout",
     "output_type": "stream",
     "text": [
      "\n",
      "👤 You:  who is the champion of PL 2024-2025?\n"
     ]
    },
    {
     "name": "stdout",
     "output_type": "stream",
     "text": [
      "🤖 AI: I don't have any information about the future, including the Champion of Premier League (PL) for season 2024-2025. My training data only goes up to a certain point in time and I do not have the ability to predict the future.\n",
      "\n",
      "However, I can suggest checking official Premier League websites or sports news outlets for updates on the latest season's standings and champions when that information becomes available.\n"
     ]
    },
    {
     "name": "stdout",
     "output_type": "stream",
     "text": [
      "\n",
      "👤 You:  quit\n"
     ]
    },
    {
     "name": "stdout",
     "output_type": "stream",
     "text": [
      "👋 Goodbye!\n"
     ]
    }
   ],
   "source": [
    "import requests\n",
    "import json\n",
    "\n",
    "# Use your existing ollama_url\n",
    "# ollama_url should already be set from your previous code\n",
    "\n",
    "def chat_with_ollama(message, model=\"llama3.1:8b\"):\n",
    "    \"\"\"Send message to ollama and get response\"\"\"\n",
    "    try:\n",
    "        response = requests.post(\n",
    "            f\"{ollama_url}/api/chat\",\n",
    "            json={\n",
    "                \"model\": model,\n",
    "                \"messages\": [\n",
    "                    {\"role\": \"user\", \"content\": message}\n",
    "                ],\n",
    "                \"stream\": False\n",
    "            }\n",
    "        )\n",
    "        \n",
    "        if response.status_code == 200:\n",
    "            result = response.json()\n",
    "            return result[\"message\"][\"content\"]\n",
    "        else:\n",
    "            return f\"Error: HTTP {response.status_code}\"\n",
    "            \n",
    "    except Exception as e:\n",
    "        return f\"Connection error: {e}\"\n",
    "\n",
    "# Simple interactive function\n",
    "def start_chat(model=\"llama3.1:8b\"):\n",
    "    \"\"\"Start continuous chat with the model\"\"\"\n",
    "    print(f\"🤖 Starting chat with {model}\")\n",
    "    print(\"💡 Type 'quit', 'exit' or 'q' to end the conversation\")\n",
    "    print(\"=\" * 50)\n",
    "    \n",
    "    while True:\n",
    "        # Get user input\n",
    "        user_input = input(\"\\n👤 You: \").strip()\n",
    "        \n",
    "        # Check exit conditions\n",
    "        if user_input.lower() in ['quit', 'exit', 'q']:\n",
    "            print(\"👋 Goodbye!\")\n",
    "            break\n",
    "            \n",
    "        if not user_input:\n",
    "            continue\n",
    "            \n",
    "        # Get AI response\n",
    "        print(\"🤖 AI: \", end=\"\", flush=True)\n",
    "        response = chat_with_ollama(user_input, model)\n",
    "        print(response)\n",
    "\n",
    "# Usage:\n",
    "print(\"🚀 Ollama chat client is ready!\")\n",
    "print(f\"🌐 Server URL: {ollama_url}\")\n",
    "\n",
    "# Start chatting\n",
    "start_chat()"
   ]
  },
  {
   "cell_type": "markdown",
   "id": "562b1683-731f-41a2-9e4e-f03be8a456ef",
   "metadata": {},
   "source": [
    "# Analysis of the Codes"
   ]
  },
  {
   "cell_type": "markdown",
   "id": "2ed5d8b0-4549-4cb1-b794-514ba61f9cf5",
   "metadata": {},
   "source": [
    "#### Check if server is running"
   ]
  },
  {
   "cell_type": "code",
   "execution_count": 2,
   "id": "8ee84ba3-8d81-4258-98d1-615fd0995ad0",
   "metadata": {},
   "outputs": [
    {
     "name": "stdout",
     "output_type": "stream",
     "text": [
      "✅ Success: Ollama is running\n"
     ]
    }
   ],
   "source": [
    "try:\n",
    "    r = requests.get(ollama_url)\n",
    "    r.raise_for_status()\n",
    "    print(\"✅ Success:\", r.text)\n",
    "except requests.exceptions.RequestException as e:\n",
    "    print(\"❌ Failed to connect:\", e)"
   ]
  },
  {
   "cell_type": "markdown",
   "id": "1f2ed5d9-6b7c-478e-807b-97074a8d22fc",
   "metadata": {},
   "source": [
    "#### Preload model onto GPU"
   ]
  },
  {
   "cell_type": "code",
   "execution_count": 3,
   "id": "2ad06a79-8528-426e-841a-f5de7039f21b",
   "metadata": {},
   "outputs": [
    {
     "name": "stdout",
     "output_type": "stream",
     "text": [
      "{\"model\":\"llama3.1:8b\",\"created_at\":\"2025-08-08T14:18:36.211727388Z\",\"message\":{\"role\":\"assistant\",\"content\":\"\"},\"done_reason\":\"load\",\"done\":true}\n"
     ]
    }
   ],
   "source": [
    "# Define the endpoint and payload\n",
    "LLM_API_URL = f\"{ollama_url}/api/chat\"  # Could also be /api/generate\n",
    "payload = {\n",
    "    \"model\": \"llama3.1:8b\",\n",
    "    \"keep_alive\": -1  # Keeps model loaded after request\n",
    "}\n",
    "headers = {\"Content-Type\": \"application/json\"}\n",
    "\n",
    "# Send POST request\n",
    "response = requests.post(LLM_API_URL, headers=headers, data=json.dumps(payload))\n",
    "print(response.text)"
   ]
  },
  {
   "cell_type": "markdown",
   "id": "c8e28360-a9a9-476a-b90c-2f614a46a28d",
   "metadata": {},
   "source": [
    "# Data Analysis Question"
   ]
  },
  {
   "cell_type": "markdown",
   "id": "44b7eda5-8b15-4372-9aa7-73fa751e06fd",
   "metadata": {},
   "source": [
    "## Example: Can a LLM tell me how funny a joke is?"
   ]
  },
  {
   "cell_type": "code",
   "execution_count": 24,
   "id": "6ad34197-6416-4290-9d6a-7d43c265f4c8",
   "metadata": {},
   "outputs": [],
   "source": [
    "jokes = [\n",
    "    '''What kind of shoes to frogs wear? Open-toad sandals.''',\n",
    "    '''I just built an ATM that only gives out coins. I don’t know why no one’s thought of it before: it just makes cents!''',\n",
    "    '''Did I ever tell you about the time I went mushroom foraging? It’s a story with a morel at the end.''',\n",
    "    '''What happened when two slices of bread went on a date? It was loaf at first sight.''',\n",
    "    '''Why do crabs never volunteer? Because they're shell-fish.''',\n",
    "    '''I had a quiet game of tennis today. There was no racket.''',\n",
    "    '''What's a shark's favorite saying? \"Man overboard!\"''',\n",
    "    '''What did one slice of bread say to the other before the race? You're toast!''',\n",
    "    '''I poured some water over a duck's back yesterday. I don't think he cared.''',\n",
    "    '''I'm such a good navigator, a self-driving car once asked me for directions.''',\n",
    "    '''Why do melons have weddings? They cantelope.''',\n",
    "    '''What did the bison say to his son when he left the ranch? Bi-son.''',\n",
    "    '''Watch what you say around the egg whites. They can't take a yolk.''',\n",
    "    '''I'm so good at fixing things, my motto is, \"If it is broke, I'll still fix it.\"''',\n",
    "    '''Were did the pumpkins have their meeting? In the gourdroom.''',\n",
    "    '''What's the best way to save your dad jokes? In a dadda-base.''',\n",
    "    '''I got a new pen that can write under water. It can write other words too.''',\n",
    "    '''My boss said “dress for the job you want, not for the job you have.” So I went in as Batman.''',\n",
    "    '''I went to the aquarium this weekend, but I didn’t stay long. There’s something fishy about that place.''',\n",
    "    '''Why can't dinosaurs clap their hands? Because they're extinct.''',\n",
    "    '''I gave my handyman a to-do list, but he only did jobs 1, 3, and 5. Turns out he only does odd jobs.''',\n",
    "    '''The Company may use derivative instruments to partially offset its business exposure to foreign exchange and interest rate risk. However, the Company may choose not to hedge certain exposures for a variety of reasons''',\n",
    "    '''We are exposed to financial market risks, including changes in interest rates and currency exchange rates. To mitigate these risks, we may utilize derivative financial instruments, among other strategies. We do not use derivative financial instruments for speculative purposes.''',\n",
    "    '''Check the appropriate box to designate whether you are a cat:\n",
    "o\tI am a cat.\n",
    "x\tI am not a cat.\n",
    " ''']\n"
   ]
  },
  {
   "cell_type": "markdown",
   "id": "b4794cfa-1deb-428a-95ea-69510fbd44a5",
   "metadata": {},
   "source": [
    "### 🔧 Sending a Request to the Ollama Chat API"
   ]
  },
  {
   "cell_type": "markdown",
   "id": "113fa244-65ba-4e3e-bbde-b4e31a961f8c",
   "metadata": {},
   "source": [
    "\n",
    "##### 1. **Header** – Defines the format and type of the request and response\n",
    "\n",
    "```json\n",
    "{\n",
    "  \"Content-Type\": \"application/json\"\n",
    "}\n",
    "```\n",
    "\n",
    "\n",
    "##### 2. **URL** – The address to which you are sending the request\n",
    "`http://HOST:PORT/api/chat` <br>\n",
    ">**Format:** http://{OLLAMA_SERVER_URL}:{PORT}/api/{ENDPOINT}<br>\n",
    "##### 3. **Payload** – The body of the request\n",
    "This depends on the endpoint being used. For the `/api/chat` endpoint, the payload typically looks like:\n",
    "``` json\n",
    "{\n",
    "    \"model\": \"llama3.1:8b\",  # Specify the model to use\n",
    "    \"messages\": [\n",
    "        {\"role\": \"system\", \"content\": system_prompt}, #System prompt for chat template\n",
    "        {\"role\": \"user\", \"content\": user_prompt}\n",
    "    ],\n",
    "    \"stream\": False #Return it all at one time\n",
    "}\n",
    "\n",
    "```"
   ]
  },
  {
   "cell_type": "markdown",
   "id": "251e5daf-f4ca-4e45-97f1-f92f976d47dd",
   "metadata": {},
   "source": [
    "#### System Prompt Declaration\n",
    "\n",
    "The system prompt in a large language model (LLM) sets the initial behavior and tone of the model by defining its role, goals, and constraints before any user input is given. It acts as an invisible instruction that shapes all future responses by providing context, personality, and rules for how the model should act."
   ]
  },
  {
   "cell_type": "code",
   "execution_count": 25,
   "id": "f418672c-fb51-4f64-87ab-ac94df00de68",
   "metadata": {},
   "outputs": [
    {
     "name": "stdout",
     "output_type": "stream",
     "text": [
      "\n",
      "You are HumorCritic-v1, an impartial humor analyst.  \n",
      "Goal: For every joke you receive, produce (a) a *structured rating* of funniness on a 1–5 scale and (b) a short justification grounded in clear criteria.\n",
      "{\n",
      "  \"overall_rating\": <int 1–5>,\n",
      "  \"explanation\": \"word rationale explaining the why the joke got the overall rating it got\"\n",
      "}\n",
      "If the input is not a joke or is too ambiguous, set score to 0 and explain.\n",
      "\n"
     ]
    }
   ],
   "source": [
    "system_prompt = '''\n",
    "You are HumorCritic-v1, an impartial humor analyst.  \n",
    "Goal: For every joke you receive, produce (a) a *structured rating* of funniness on a 1–5 scale and (b) a short justification grounded in clear criteria.\n",
    "{\n",
    "  \"overall_rating\": <int 1–5>,\n",
    "  \"explanation\": \"word rationale explaining the why the joke got the overall rating it got\"\n",
    "}\n",
    "If the input is not a joke or is too ambiguous, set score to 0 and explain.\n",
    "'''\n",
    "print(system_prompt)"
   ]
  },
  {
   "cell_type": "markdown",
   "id": "00f2a3d2-ce32-43cf-aed5-06e5f14e0e0b",
   "metadata": {},
   "source": [
    "#### User prompt Declaration\n",
    "\n",
    "The user prompt is the explicit input or question given to the LLM by the user. It tells the model what task to perform or information to generate, serving as the main instruction the model responds to in context."
   ]
  },
  {
   "cell_type": "code",
   "execution_count": 26,
   "id": "45711e37-62f3-4762-a7c2-7a072837121b",
   "metadata": {},
   "outputs": [
    {
     "name": "stdout",
     "output_type": "stream",
     "text": [
      "\n",
      "Joke to Analyze:\n",
      "What kind of shoes to frogs wear? Open-toad sandals.\n",
      "\n"
     ]
    }
   ],
   "source": [
    "user_prompt = f'''\n",
    "Joke to Analyze:\n",
    "{jokes[0]}\n",
    "'''\n",
    "print(user_prompt)"
   ]
  },
  {
   "cell_type": "code",
   "execution_count": 27,
   "id": "cc597a19-d586-4f60-b9f2-88f149a23829",
   "metadata": {},
   "outputs": [
    {
     "name": "stdout",
     "output_type": "stream",
     "text": [
      "[INFO] Chat API Request Configuration\n",
      "URL:      http://rpg-93-7:53442/api/chat\n",
      "Headers:  {'Content-Type': 'application/json'}\n",
      "Payload:  {'model': 'llama3.1:8b', 'messages': [{'role': 'system', 'content': '\\nYou are HumorCritic-v1, an impartial humor analyst.  \\nGoal: For every joke you receive, produce (a) a *structured rating* of funniness on a 1–5 scale and (b) a short justification grounded in clear criteria.\\n{\\n  \"overall_rating\": <int 1–5>,\\n  \"explanation\": \"word rationale explaining the why the joke got the overall rating it got\"\\n}\\nIf the input is not a joke or is too ambiguous, set score to 0 and explain.\\n'}, {'role': 'user', 'content': '\\nJoke to Analyze:\\nWhat kind of shoes to frogs wear? Open-toad sandals.\\n'}], 'stream': False}\n"
     ]
    }
   ],
   "source": [
    "# Define the chat endpoint URL\n",
    "LLM_API_URL = f\"{ollama_url}/api/chat\"\n",
    "\n",
    "# Define request headers\n",
    "headers = {\n",
    "    \"Content-Type\": \"application/json\"\n",
    "}\n",
    "\n",
    "# Construct the payload for the chat request\n",
    "payload = {\n",
    "    \"model\": \"llama3.1:8b\",\n",
    "    \"messages\": [\n",
    "        {\"role\": \"system\", \"content\": system_prompt},  # System instructions to guide the model\n",
    "        {\"role\": \"user\", \"content\": user_prompt}       # User input to be processed\n",
    "    ],\n",
    "    \"stream\": False  # Set to True for streamed responses\n",
    "}\n",
    "\n",
    "# Display the request configuration\n",
    "print(\"[INFO] Chat API Request Configuration\")\n",
    "print(\"URL:     \", LLM_API_URL)\n",
    "print(\"Headers: \", headers)\n",
    "print(\"Payload: \", payload)"
   ]
  },
  {
   "cell_type": "code",
   "execution_count": 28,
   "id": "bc73d9e0-f9c2-4b47-bee8-cee4e1a35b29",
   "metadata": {},
   "outputs": [
    {
     "name": "stdout",
     "output_type": "stream",
     "text": [
      "**Joke Analysis**\n",
      "\n",
      "* \"overall_rating\": 4\n",
      "* \"explanation\": The joke's overall rating of 4 is due to its clever play on words, using the phrase \"open-toed\" in a punny way. This type of wordplay creates a unexpected twist on the typical meaning of the phrase, which contributes to the joke's humor. However, it doesn't quite reach a perfect score (5) because while the punchline is clear and quick-witted, it may not elicit an intense or prolonged laughter from most audiences.\n"
     ]
    }
   ],
   "source": [
    "response=requests.post(LLM_API_URL,headers=headers,data=json.dumps(payload))\n",
    "print(response.json()['message']['content'])"
   ]
  },
  {
   "cell_type": "markdown",
   "id": "437a7959-748c-4a18-8015-4e5bfba32f68",
   "metadata": {},
   "source": [
    "## All Data"
   ]
  },
  {
   "cell_type": "code",
   "execution_count": 29,
   "id": "0aa1fe08-274b-4c13-bf15-deec01b784e0",
   "metadata": {},
   "outputs": [
    {
     "name": "stdout",
     "output_type": "stream",
     "text": [
      "\n",
      "--- JOKE 1 ---\n",
      "JOKE: What kind of shoes to frogs wear? Open-toad sandals.\n",
      "OVERALL RATING: 4\n",
      "EXPLANATION: This joke is very funny because it's a clever play on words, using 'toad' as a pun instead of just saying 'toe' which is what you would expect from the phrase 'open-toe sandals'. The unexpected twist creates humor.\n",
      "--------------------------------------------------\n",
      "\n",
      "--- JOKE 2 ---\n",
      "JOKE: I just built an ATM that only gives out coins. I don’t know why no one’s thought of it before: it just makes cents!\n",
      "OVERALL RATING: 4\n",
      "EXPLANATION: The joke is a play on words, using the phrase 'makes cents' which has a double meaning - both referring to the monetary value and the idea that it's a good idea. The punchline is quick-witted and well-crafted.\n",
      "--------------------------------------------------\n",
      "\n",
      "--- JOKE 3 ---\n",
      "JOKE: Did I ever tell you about the time I went mushroom foraging? It’s a story with a morel at the end.\n",
      "OVERALL RATING: 4\n",
      "EXPLANATION: The joke relies on a play on words, using 'morel' (a type of mushroom) and 'moral' to create a pun. The unexpected twist adds surprise and delight, making it a funny joke.\n",
      "--------------------------------------------------\n",
      "\n",
      "--- JOKE 4 ---\n",
      "JOKE: What happened when two slices of bread went on a date? It was loaf at first sight.\n",
      "OVERALL RATING: 4\n",
      "EXPLANATION: This joke is a play on words, using 'loaf' (a type of bread) and 'love at first sight' to create a clever pun. The punchline is unexpected but makes sense in hindsight, which adds to the humor.\n",
      "--------------------------------------------------\n",
      "\n",
      "--- JOKE 5 ---\n",
      "JOKE: Why do crabs never volunteer? Because they're shell-fish.\n",
      "OVERALL RATING: 5\n",
      "EXPLANATION: This is a great play on words, using 'shell-fish' to sound like 'selfish', which is a clever and unexpected twist that leads to a quick and satisfying punchline.\n",
      "--------------------------------------------------\n",
      "\n",
      "--- JOKE 6 ---\n",
      "JOKE: I had a quiet game of tennis today. There was no racket.\n",
      "OVERALL RATING: 4\n",
      "EXPLANATION: This joke plays on the word 'racket' which has a double meaning here, referring both to a tennis equipment and noise. The unexpected twist creates humor.\n",
      "--------------------------------------------------\n",
      "\n",
      "--- JOKE 7 ---\n",
      "JOKE: What's a shark's favorite saying? \"Man overboard!\"\n",
      "OVERALL RATING: 4\n",
      "EXPLANATION: The joke relies on a play on words, setting up the expectation that 'man overboard' is an expression of concern for someone falling into the water, but then subverting it to reveal a literal shark-related interpretation. The unexpected twist creates a delightful surprise and punchline.\n",
      "--------------------------------------------------\n",
      "\n",
      "--- JOKE 8 ---\n",
      "JOKE: What did one slice of bread say to the other before the race? You're toast!\n",
      "OVERALL RATING: 4\n",
      "EXPLANATION: This is a play on words, using 'toast' as both a common snack made from bread and an idiom for being at risk of failure. The unexpected twist creates humor.\n",
      "--------------------------------------------------\n",
      "\n",
      "--- JOKE 9 ---\n",
      "JOKE: I poured some water over a duck's back yesterday. I don't think he cared.\n",
      "OVERALL RATING: 3\n",
      "EXPLANATION: The joke is a play on words, with 'cared' having a double meaning of both showing concern and being affected by the physical sensation of the water. It's a simple pun, but the unexpected twist on the word's meaning adds a layer of cleverness.\n",
      "--------------------------------------------------\n",
      "\n",
      "--- JOKE 10 ---\n",
      "JOKE: I'm such a good navigator, a self-driving car once asked me for directions.\n",
      "OVERALL RATING: 4\n",
      "EXPLANATION: This joke is funny because it's a clever play on expectations. The listener assumes the narrator is bragging about being a skilled navigator, but the punchline subverts this by implying that they're actually incompetent, and a self-driving car doesn't need human navigation.\n",
      "--------------------------------------------------\n",
      "\n",
      "--- JOKE 11 ---\n",
      "JOKE: Why do melons have weddings? They cantelope.\n",
      "OVERALL RATING: 4\n",
      "EXPLANATION: This joke is funny because it plays on the double meaning of 'canterlope', which sounds like 'can't elope' (a play on words) but also refers to a type of fast horse gait, and here it's applied to cantaloupes. It's a clever pun that creates humor.\n",
      "--------------------------------------------------\n",
      "\n",
      "--- JOKE 12 ---\n",
      "JOKE: What did the bison say to his son when he left the ranch? Bi-son.\n",
      "OVERALL RATING: 4\n",
      "EXPLANATION: The punchline is clever and plays on words, creating a surprise connection between 'bi-' (meaning two) and 'bison'. It's a well-crafted pun that adds to the humor.\n",
      "--------------------------------------------------\n",
      "\n",
      "--- JOKE 13 ---\n",
      "JOKE: Watch what you say around the egg whites. They can't take a yolk.\n",
      "OVERALL RATING: 4\n",
      "EXPLANATION: This joke is funny because it's a play on words, using the phrase 'take a yolk' (as in, being upset) and replacing it with 'yolk', which refers to a part of an egg. The punchline is unexpected but makes sense, creating a clever wordplay that adds to the humor.\n",
      "--------------------------------------------------\n",
      "\n",
      "--- JOKE 14 ---\n",
      "JOKE: I'm so good at fixing things, my motto is, \"If it is broke, I'll still fix it.\"\n",
      "OVERALL RATING: 3\n",
      "EXPLANATION: This joke is pretty funny because it plays on the expectation that someone's motto for fixing things would be to actually fix them if they're broken. The punchline subverts this expectation with a clever and ironic twist.\n",
      "--------------------------------------------------\n",
      "\n",
      "--- JOKE 15 ---\n",
      "JOKE: Were did the pumpkins have their meeting? In the gourdroom.\n",
      "OVERALL RATING: 4\n",
      "EXPLANATION: This is a play on words, using 'gourd' (a type of squash) to create a pun on 'board room', which is where meetings are typically held.\n",
      "--------------------------------------------------\n",
      "\n",
      "--- JOKE 16 ---\n",
      "JOKE: What's the best way to save your dad jokes? In a dadda-base.\n",
      "OVERALL RATING: 4\n",
      "EXPLANATION: This joke is funny because it's a play on words, using 'dadda' instead of 'data' in 'database', and applying it to dad jokes, which is a clever pun that creates humor.\n",
      "--------------------------------------------------\n",
      "\n",
      "--- JOKE 17 ---\n",
      "JOKE: I got a new pen that can write under water. It can write other words too.\n",
      "OVERALL RATING: 2\n",
      "EXPLANATION: This joke relies on a play on words with 'other words' which has a double meaning of both the ability to write different words and also literally writing in multiple languages, but it's not a laugh-out-loud punchline\n",
      "--------------------------------------------------\n",
      "\n",
      "--- JOKE 18 ---\n",
      "JOKE: My boss said “dress for the job you want, not for the job you have.” So I went in as Batman.\n",
      "OVERALL RATING: 4\n",
      "EXPLANATION: This joke is funny because it takes a common career advice literally and applies it to an absurd extreme, creating humor through unexpectedness and clever wordplay.\n",
      "--------------------------------------------------\n",
      "\n",
      "--- JOKE 19 ---\n",
      "JOKE: I went to the aquarium this weekend, but I didn’t stay long. There’s something fishy about that place.\n",
      "OVERALL RATING: 4\n",
      "EXPLANATION: The joke relies on a clever play on words, using 'fishy' to refer both to the presence of fish and an expression meaning suspicious or untrustworthy. This wordplay creates a sense of surprise and delight, making it amusing for most people.\n",
      "--------------------------------------------------\n",
      "\n",
      "--- JOKE 20 ---\n",
      "JOKE: Why can't dinosaurs clap their hands? Because they're extinct.\n",
      "OVERALL RATING: 4\n",
      "EXPLANATION: This is a play on words, using the multiple meanings of 'extinct' to create a pun that leads to a simple but unexpected punchline. The joke relies on a basic understanding of wordplay and doesn't require complex setup or inside knowledge.\n",
      "--------------------------------------------------\n",
      "\n",
      "--- JOKE 21 ---\n",
      "JOKE: I gave my handyman a to-do list, but he only did jobs 1, 3, and 5. Turns out he only does odd jobs.\n",
      "OVERALL RATING: 4\n",
      "EXPLANATION: The joke relies on wordplay with 'odd jobs' having a double meaning of both unusual tasks and the fact that numbers 1, 3, and 5 are odd numbers in the list. The unexpected twist creates humor.\n",
      "--------------------------------------------------\n",
      "\n",
      "--- JOKE 22 ---\n",
      "JOKE: The Company may use derivative instruments to partially offset its business exposure to foreign exchange and interest rate risk. However, the Company may choose not to hedge certain exposures for a variety of reasons\n",
      "OVERALL RATING: 0\n",
      "EXPLANATION: This is a dry financial explanation and lacks any punchline or attempt at humor, making it not funny at all.\n",
      "--------------------------------------------------\n",
      "\n",
      "--- JOKE 23 ---\n",
      "JOKE: We are exposed to financial market risks, including changes in interest rates and currency exchange rates. To mitigate these risks, we may utilize derivative financial instruments, among other strategies. We do not use derivative financial instruments for speculative purposes.\n",
      "OVERALL RATING: 0\n",
      "EXPLANATION: This is not a joke, but rather an informative statement about financial market risks and risk mitigation strategies.\n",
      "--------------------------------------------------\n",
      "\n",
      "--- JOKE 24 ---\n",
      "JOKE: Check the appropriate box to designate whether you are a cat:\n",
      "o\tI am a cat.\n",
      "x\tI am not a cat.\n",
      " \n",
      "OVERALL RATING: 4\n",
      "EXPLANATION: This joke is funny because it cleverly uses the check boxes associated with multiple-choice questions, where typically 'o' represents an incorrect option and 'x' represents a correct one. The punchline subverts this expectation by using the 'x' to imply that the person being surveyed is definitely not a cat.\n",
      "--------------------------------------------------\n",
      "\n",
      "=== RATING DISTRIBUTION ===\n",
      "Rating 0:  2 jokes ██\n",
      "Rating 1:  0 jokes \n",
      "Rating 2:  1 jokes █\n",
      "Rating 3:  2 jokes ██\n",
      "Rating 4: 18 jokes ██████████████████\n",
      "Rating 5:  1 jokes █\n",
      "\n",
      "Total jokes processed: 24\n"
     ]
    }
   ],
   "source": [
    "import json\n",
    "import requests\n",
    "import re\n",
    "\n",
    "# System prompt that instructs the model to return JSON format\n",
    "system_prompt = \"\"\"You are a joke rating expert. Rate each joke on a scale of 0-5 where:\n",
    "- 0: Not funny at all\n",
    "- 1: Slightly amusing\n",
    "- 2: Mildly funny\n",
    "- 3: Pretty funny\n",
    "- 4: Very funny\n",
    "- 5: Extremely hilarious\n",
    "\n",
    "You MUST respond with a valid JSON object in exactly this format:\n",
    "{\n",
    "    \"overall_rating\": <integer from 0 to 5>,\n",
    "    \"explanation\": \"<your explanation here>\"\n",
    "}\n",
    "\n",
    "Do not include any other text before or after the JSON. Only return the JSON object.\"\"\"\n",
    "\n",
    "# Rating count histogram\n",
    "count_list = [0] * 6  # Index 0–5 for ratings\n",
    "\n",
    "def extract_json_from_response(text):\n",
    "    \"\"\"Extract JSON from model response, handling various formats\"\"\"\n",
    "    # Try to find JSON object in the response\n",
    "    text = text.strip()\n",
    "    \n",
    "    # If the response is already clean JSON\n",
    "    if text.startswith('{') and text.endswith('}'):\n",
    "        return text\n",
    "    \n",
    "    # Try to find JSON object within the text\n",
    "    json_match = re.search(r'\\{[^{}]*\"overall_rating\"[^{}]*\\}', text, re.DOTALL)\n",
    "    if json_match:\n",
    "        return json_match.group()\n",
    "    \n",
    "    # Try to find JSON with nested braces\n",
    "    brace_count = 0\n",
    "    start_idx = -1\n",
    "    for i, char in enumerate(text):\n",
    "        if char == '{':\n",
    "            if start_idx == -1:\n",
    "                start_idx = i\n",
    "            brace_count += 1\n",
    "        elif char == '}':\n",
    "            brace_count -= 1\n",
    "            if brace_count == 0 and start_idx != -1:\n",
    "                return text[start_idx:i+1]\n",
    "    \n",
    "    return None\n",
    "\n",
    "def safe_parse_rating(response_text):\n",
    "    \"\"\"Safely parse the rating from model response\"\"\"\n",
    "    try:\n",
    "        # First try to extract JSON\n",
    "        json_text = extract_json_from_response(response_text)\n",
    "        if json_text:\n",
    "            result = json.loads(json_text)\n",
    "            rating = int(result.get(\"overall_rating\", 0))\n",
    "            explanation = result.get(\"explanation\", \"No explanation provided\")\n",
    "            return rating, explanation\n",
    "        else:\n",
    "            # Fallback: try to extract rating and explanation manually\n",
    "            rating_match = re.search(r'\"overall_rating\":\\s*(\\d+)', response_text)\n",
    "            explanation_match = re.search(r'\"explanation\":\\s*\"([^\"]*)\"', response_text)\n",
    "            \n",
    "            rating = int(rating_match.group(1)) if rating_match else 0\n",
    "            explanation = explanation_match.group(1) if explanation_match else \"Could not parse explanation\"\n",
    "            return rating, explanation\n",
    "            \n",
    "    except Exception as e:\n",
    "        print(f\"Parse error: {e}\")\n",
    "        print(f\"Response was: {response_text}\")\n",
    "        return 0, \"Error parsing response\"\n",
    "\n",
    "# Process each joke\n",
    "for i, joke in enumerate(jokes, 1):\n",
    "    user_prompt = f\"Rate this joke:\\n\\n{joke}\"\n",
    "    \n",
    "    payload = {\n",
    "        \"model\": \"llama3.1:8b\",\n",
    "        \"messages\": [\n",
    "            {\"role\": \"system\", \"content\": system_prompt},\n",
    "            {\"role\": \"user\", \"content\": user_prompt}\n",
    "        ],\n",
    "        \"stream\": False,\n",
    "        \"temperature\": 0.3  # Lower temperature for more consistent formatting\n",
    "    }\n",
    "    \n",
    "    try:\n",
    "        response = requests.post(f\"{ollama_url}/api/chat\", json=payload)\n",
    "        response.raise_for_status()\n",
    "        \n",
    "        response_text = response.json()[\"message\"][\"content\"]\n",
    "        rating, explanation = safe_parse_rating(response_text)\n",
    "        \n",
    "        # Ensure rating is in valid range\n",
    "        rating = max(0, min(5, rating))\n",
    "        \n",
    "        count_list[rating] += 1\n",
    "        \n",
    "        print(f\"\\n--- JOKE {i} ---\")\n",
    "        print(f\"JOKE: {joke}\")\n",
    "        print(f\"OVERALL RATING: {rating}\")\n",
    "        print(f\"EXPLANATION: {explanation}\")\n",
    "        print(\"-\" * 50)\n",
    "        \n",
    "    except Exception as e:\n",
    "        print(f\"⚠️ Error processing joke {i}:\")\n",
    "        print(f\"JOKE: {joke}\")\n",
    "        print(f\"Exception: {e}\")\n",
    "        print(\"-\" * 50)\n",
    "\n",
    "# Display rating distribution\n",
    "print(\"\\n=== RATING DISTRIBUTION ===\")\n",
    "for rating in range(6):\n",
    "    count = count_list[rating]\n",
    "    bar = \"█\" * count if count > 0 else \"\"\n",
    "    print(f\"Rating {rating}: {count:2d} jokes {bar}\")\n",
    "\n",
    "print(f\"\\nTotal jokes processed: {sum(count_list)}\")"
   ]
  },
  {
   "cell_type": "code",
   "execution_count": 30,
   "id": "61fddbba-286e-4c4f-967c-d2ea48260497",
   "metadata": {},
   "outputs": [
    {
     "name": "stdout",
     "output_type": "stream",
     "text": [
      "\n",
      "🎯 Joke Ratings Distribution:\n",
      "0 ⭐ ██ (2)\n",
      "1 ⭐  (0)\n",
      "2 ⭐ █ (1)\n",
      "3 ⭐ ██ (2)\n",
      "4 ⭐ ██████████████████ (18)\n",
      "5 ⭐ █ (1)\n"
     ]
    }
   ],
   "source": [
    "print(\"\\n🎯 Joke Ratings Distribution:\")\n",
    "for rating, freq in enumerate(count_list):\n",
    "    print(f\"{rating} ⭐ {'█' * freq} ({freq})\")"
   ]
  },
  {
   "cell_type": "markdown",
   "id": "6432f316-6e49-4f57-a783-29a5726663fa",
   "metadata": {
    "jp-MarkdownHeadingCollapsed": true
   },
   "source": [
    "# Appendix"
   ]
  },
  {
   "cell_type": "markdown",
   "id": "e625970e-2ce1-495e-9b86-f07fcd4fa7bb",
   "metadata": {},
   "source": [
    "# Ollama API Commands"
   ]
  },
  {
   "cell_type": "markdown",
   "id": "253affaf-66e6-404b-996b-d3630f3deb47",
   "metadata": {},
   "source": [
    "## Requests Tutorial"
   ]
  },
  {
   "cell_type": "markdown",
   "id": "8cd9ff80-5778-45be-ab8c-1cd9a0d77602",
   "metadata": {},
   "source": [
    "### 🔍 Understanding `requests.get()` and `requests.post()`"
   ]
  },
  {
   "cell_type": "markdown",
   "id": "63b4207e-4015-49bf-b835-a14ade2e69c8",
   "metadata": {},
   "source": [
    "In the previous step, we used a **`GET` request** to check if the Ollama server was running:\n",
    "\n",
    "```python\n",
    "r = requests.get(ollama_url)\n",
    "```\n",
    "\n",
    "A **GET request** is used to retrieve data from a server — it’s like asking a question and getting a response. It **does not change anything** on the server.\n",
    "\n",
    "In contrast, a **POST request** is used to send data to a server. This is commonly used to:\n",
    "\n",
    "- Start a new task\n",
    "\n",
    "- Submit user input\n",
    "\n",
    "- Create a resource (like generating a response from a model)\n",
    "\n",
    "Think of GET as: “What’s the current state of X?”\n",
    "<br>\n",
    "And POST as: “Here’s some data — do something with it.”\n",
    "\n",
    "Here are some examples of GET requests\n",
    "\n",
    "For a full list check out \n",
    "[Ollama REST API Documentation](https://www.postman.com/postman-student-programs/ollama-api/documentation/suc47x8/ollama-rest-api)"
   ]
  },
  {
   "cell_type": "markdown",
   "id": "8212d65d-4423-4fc8-9922-7531a9651005",
   "metadata": {},
   "source": [
    "## What models are available to me"
   ]
  },
  {
   "cell_type": "markdown",
   "id": "abe404ca-38b7-4c51-b755-e5e355bd9de4",
   "metadata": {},
   "source": [
    "You're now interacting directly with the **REST API** exposed by the Ollama server. This means you can query it to check for available models, manage tasks, and more.\n",
    "\n",
    "To see what models are currently available on your server, use the /api/tags endpoint:"
   ]
  },
  {
   "cell_type": "code",
   "execution_count": 31,
   "id": "985348aa-a6c3-4cfb-9fd8-43f21ea50527",
   "metadata": {},
   "outputs": [
    {
     "data": {
      "text/plain": [
       "{'models': [{'name': 'llama3.1:8b',\n",
       "   'model': 'llama3.1:8b',\n",
       "   'modified_at': '2025-08-08T01:00:38.391584521-05:00',\n",
       "   'size': 4920753328,\n",
       "   'digest': '46e0c10c039e019119339687c3c1757cc81b9da49709a3b3924863ba87ca666e',\n",
       "   'details': {'parent_model': '',\n",
       "    'format': 'gguf',\n",
       "    'family': 'llama',\n",
       "    'families': ['llama'],\n",
       "    'parameter_size': '8.0B',\n",
       "    'quantization_level': 'Q4_K_M'}},\n",
       "  {'name': 'mistral:7b',\n",
       "   'model': 'mistral:7b',\n",
       "   'modified_at': '2025-08-08T01:00:20.558549886-05:00',\n",
       "   'size': 4372824384,\n",
       "   'digest': '6577803aa9a036369e481d648a2baebb381ebc6e897f2bb9a766a2aa7bfbc1cf',\n",
       "   'details': {'parent_model': '',\n",
       "    'format': 'gguf',\n",
       "    'family': 'llama',\n",
       "    'families': ['llama'],\n",
       "    'parameter_size': '7.2B',\n",
       "    'quantization_level': 'Q4_K_M'}}]}"
      ]
     },
     "execution_count": 31,
     "metadata": {},
     "output_type": "execute_result"
    }
   ],
   "source": [
    "r=requests.get(f'{ollama_url}/api/tags')\n",
    "r.json()"
   ]
  },
  {
   "cell_type": "markdown",
   "id": "94610951-5ee8-44e4-8695-d23ebf3bc8bc",
   "metadata": {},
   "source": [
    "This returns a list of models and associated metadata — such as:\n",
    "\n",
    "- Model name (\"name\")\n",
    "\n",
    "- Model size (File size in bytes (useful for estimating memory requirements))\n",
    "\n",
    "- Model Details (e.g format, family, parameter_size)\n",
    "\n",
    "💡 This list reflects what’s currently pulled and ready on your server — not the full set of models available through Ollama’s registry."
   ]
  },
  {
   "cell_type": "markdown",
   "id": "e0573fa8-71f3-4d4a-b66d-ca67301a16dc",
   "metadata": {},
   "source": [
    "## What Models are currently running on the Server"
   ]
  },
  {
   "cell_type": "code",
   "execution_count": 32,
   "id": "cad10e65-cd77-416e-bcfc-5eb9d9e8bd18",
   "metadata": {},
   "outputs": [
    {
     "name": "stdout",
     "output_type": "stream",
     "text": [
      "{\"models\":[{\"name\":\"llama3.1:8b\",\"model\":\"llama3.1:8b\",\"size\":6930032640,\"digest\":\"46e0c10c039e019119339687c3c1757cc81b9da49709a3b3924863ba87ca666e\",\"details\":{\"parent_model\":\"\",\"format\":\"gguf\",\"family\":\"llama\",\"families\":[\"llama\"],\"parameter_size\":\"8.0B\",\"quantization_level\":\"Q4_K_M\"},\"expires_at\":\"2317-11-18T08:18:38.730244621-06:00\",\"size_vram\":6930032640}]}\n"
     ]
    }
   ],
   "source": [
    "r=requests.get(f'{ollama_url}/api/ps')\n",
    "print(r.text)"
   ]
  },
  {
   "cell_type": "markdown",
   "id": "e0b152ff-6221-4125-9af5-1ab81c6a498d",
   "metadata": {},
   "source": [
    "***"
   ]
  },
  {
   "cell_type": "markdown",
   "id": "814c33d8-4a0f-4503-b0f3-48a6f8557fce",
   "metadata": {},
   "source": [
    "## Run a previously downloaded model"
   ]
  },
  {
   "cell_type": "markdown",
   "id": "98c38f8c-01ed-43c5-8f6c-1673be1f845f",
   "metadata": {},
   "source": [
    "### Loading the model so its ready for requests\n",
    "\n",
    "Before sending prompts, its easier ***to load the model into memory.*** This avoids hiccups later when we issue chat requests.\n"
   ]
  },
  {
   "cell_type": "code",
   "execution_count": 33,
   "id": "4c162b10-a158-47db-a069-fb19d1131522",
   "metadata": {},
   "outputs": [
    {
     "name": "stdout",
     "output_type": "stream",
     "text": [
      "{\"error\":\"model \\\"gemma3:4b\\\" not found, try pulling it first\"}\n"
     ]
    }
   ],
   "source": [
    "# Define the endpoint and payload\n",
    "LLM_API_URL = f\"{ollama_url}/api/chat\"  # Could also be /api/generate\n",
    "payload = {\n",
    "    \"model\": \"gemma3:4b\",\n",
    "    \"keep_alive\": -1  # Keeps model loaded after request\n",
    "}\n",
    "headers = {\"Content-Type\": \"application/json\"}\n",
    "\n",
    "# Send POST request\n",
    "response = requests.post(LLM_API_URL, headers=headers, data=json.dumps(payload))\n",
    "print(response.text)"
   ]
  },
  {
   "cell_type": "markdown",
   "id": "0d52b651-8f56-480b-8e93-13553e083ba8",
   "metadata": {},
   "source": [
    "### Pulling a New Model (If You Don't Have It Yet)\n",
    "If the model isn’t downloaded on your server yet, use the **pull endpoint** first:"
   ]
  },
  {
   "cell_type": "code",
   "execution_count": 34,
   "id": "8167b555-2b0e-4f0e-b036-8145a51708a5",
   "metadata": {},
   "outputs": [
    {
     "name": "stdout",
     "output_type": "stream",
     "text": [
      "{\"error\":\"model \\\"gemma3:12b\\\" not found, try pulling it first\"}\n"
     ]
    }
   ],
   "source": [
    "## Trying to run a model you don't have yet\n",
    "LLM_API_URL = f\"{ollama_url}/api/chat\"\n",
    "payload = {\n",
    "    \"model\": \"gemma3:12b\",\n",
    "    \"keep_alive\": -1\n",
    "}\n",
    "headers = {\"Content-Type\": \"application/json\"}\n",
    "\n",
    "response = requests.post(LLM_API_URL, headers=headers, data=json.dumps(payload))\n",
    "print(response.text)\n",
    "# API Header, Data you are sending"
   ]
  },
  {
   "cell_type": "code",
   "execution_count": 35,
   "id": "305cc658-2b1b-4d81-98d8-99164c1b5188",
   "metadata": {},
   "outputs": [],
   "source": [
    "#Pulling a model this will send the model to where OLLAMA_MODELS environmental variable is\n",
    "LLM_API_URL=f'{ollama_url}/api/pull' # Notice the pull api endpoint\n",
    "payload={\"model\":'gemma3:4b'}\n",
    "headers = {\"Content-Type\": \"application/json\"}\n",
    "response=requests.post(LLM_API_URL,headers=headers,data=json.dumps(payload))\n",
    "# API Header, Data you are sending"
   ]
  },
  {
   "cell_type": "markdown",
   "id": "5f9e3198-8f88-4497-ad59-e5733d2a8dbc",
   "metadata": {},
   "source": [
    "### Confirm Loaded Models\n",
    "Check which models are currently loaded and ready to use"
   ]
  },
  {
   "cell_type": "code",
   "execution_count": 12,
   "id": "638fbbfc-e846-4ee0-84ed-53202a310078",
   "metadata": {},
   "outputs": [
    {
     "data": {
      "text/plain": [
       "{'models': [{'name': 'llama3.1:8b',\n",
       "   'model': 'llama3.1:8b',\n",
       "   'size': 6930032640,\n",
       "   'digest': '46e0c10c039e019119339687c3c1757cc81b9da49709a3b3924863ba87ca666e',\n",
       "   'details': {'parent_model': '',\n",
       "    'format': 'gguf',\n",
       "    'family': 'llama',\n",
       "    'families': ['llama'],\n",
       "    'parameter_size': '8.0B',\n",
       "    'quantization_level': 'Q4_K_M'},\n",
       "   'expires_at': '2317-11-18T08:06:42.059076433-06:00',\n",
       "   'size_vram': 6930032640}]}"
      ]
     },
     "execution_count": 12,
     "metadata": {},
     "output_type": "execute_result"
    }
   ],
   "source": [
    "# Another way to check if it ran \n",
    "r=requests.get(f'{ollama_url}/api/ps')\n",
    "r.json()"
   ]
  },
  {
   "cell_type": "markdown",
   "id": "2c973e89-1114-4bbc-b248-43962e4777ca",
   "metadata": {},
   "source": [
    "This will list all running models, their names, sizes, families, and expiration timers.\n",
    "As you can see if you ran all the cells above you should have 2 models currently running on the **SAME GPU**"
   ]
  },
  {
   "cell_type": "markdown",
   "id": "214bc91a-8e9c-4795-adb7-fe2b419a143d",
   "metadata": {},
   "source": [
    "# Embedding Models in Ollama"
   ]
  },
  {
   "cell_type": "markdown",
   "id": "ee2395e7-94b6-4a22-b3ad-3ca6aa627814",
   "metadata": {
    "jp-MarkdownHeadingCollapsed": true
   },
   "source": [
    "Ollama supports specialized embedding models like nomic-embed-text, designed to convert text into vector representations for tasks such as semantic search, clustering, and retrieval-augmented generation (RAG).\n",
    "\n",
    "\n",
    "### 🚀 Getting Started\n",
    "To generate embeddings using `nomic-embed-text`, you can utilize Ollama's REST API:\n",
    "\n",
    "```bash\n",
    "\n",
    "curl http://localhost:11434/api/embeddings \\\n",
    "  -d '{\n",
    "    \"model\": \"nomic-embed-text\",\n",
    "    \"prompt\": \"The sky is blue because of Rayleigh scattering\"\n",
    "  }'\n",
    "```\n",
    "This command returns a vector embedding representing the semantic meaning of the input text.\n",
    "\n",
    "### 🧠 Model Highlights\n",
    "- **Context Length:** Supports up to 8192 tokens, accommodating long documents.\n",
    "\n",
    "- **Performance:** Outperforms models like OpenAI's text-embedding-ada-002 on benchmarks such as MTEB and LoCo .\n",
    "\n",
    "- **Open Source:** Fully open weights, training data, and code, ensuring transparency and reproducibility.\n",
    "\n",
    "- **Multilingual Support:** nomic-embed-text-v2 incorporates a Mixture-of-Experts architecture, enhancing performance across multiple languages .\n"
   ]
  },
  {
   "cell_type": "markdown",
   "id": "3443fafa-7e63-4dab-9bea-31d0e7004177",
   "metadata": {},
   "source": [
    "### Import Libraries"
   ]
  },
  {
   "cell_type": "code",
   "execution_count": 44,
   "id": "d8ba792d-6b35-4ac7-a5cc-923fe7bc02d0",
   "metadata": {},
   "outputs": [
    {
     "name": "stdout",
     "output_type": "stream",
     "text": [
      "Requirement already satisfied: requests in /mnt/REPACSS/home/chniu/miniforge3/envs/jupyter_env/lib/python3.10/site-packages (from -r requirements.txt (line 1)) (2.32.4)\n",
      "Collecting pillow (from -r requirements.txt (line 2))\n",
      "  Downloading pillow-11.3.0-cp310-cp310-manylinux_2_27_x86_64.manylinux_2_28_x86_64.whl.metadata (9.0 kB)\n",
      "Collecting scikit-learn (from -r requirements.txt (line 3))\n",
      "  Downloading scikit_learn-1.7.1-cp310-cp310-manylinux2014_x86_64.manylinux_2_17_x86_64.whl.metadata (11 kB)\n",
      "Requirement already satisfied: ipykernel in /mnt/REPACSS/home/chniu/miniforge3/envs/jupyter_env/lib/python3.10/site-packages (from -r requirements.txt (line 4)) (6.30.1)\n",
      "Collecting matplotlib (from -r requirements.txt (line 5))\n",
      "  Downloading matplotlib-3.10.5-cp310-cp310-manylinux2014_x86_64.manylinux_2_17_x86_64.whl.metadata (11 kB)\n",
      "Requirement already satisfied: charset_normalizer<4,>=2 in /mnt/REPACSS/home/chniu/miniforge3/envs/jupyter_env/lib/python3.10/site-packages (from requests->-r requirements.txt (line 1)) (3.4.2)\n",
      "Requirement already satisfied: idna<4,>=2.5 in /mnt/REPACSS/home/chniu/miniforge3/envs/jupyter_env/lib/python3.10/site-packages (from requests->-r requirements.txt (line 1)) (3.10)\n",
      "Requirement already satisfied: urllib3<3,>=1.21.1 in /mnt/REPACSS/home/chniu/miniforge3/envs/jupyter_env/lib/python3.10/site-packages (from requests->-r requirements.txt (line 1)) (2.5.0)\n",
      "Requirement already satisfied: certifi>=2017.4.17 in /mnt/REPACSS/home/chniu/miniforge3/envs/jupyter_env/lib/python3.10/site-packages (from requests->-r requirements.txt (line 1)) (2025.8.3)\n",
      "Collecting numpy>=1.22.0 (from scikit-learn->-r requirements.txt (line 3))\n",
      "  Using cached numpy-2.2.6-cp310-cp310-manylinux_2_17_x86_64.manylinux2014_x86_64.whl.metadata (62 kB)\n",
      "Collecting scipy>=1.8.0 (from scikit-learn->-r requirements.txt (line 3))\n",
      "  Downloading scipy-1.15.3-cp310-cp310-manylinux_2_17_x86_64.manylinux2014_x86_64.whl.metadata (61 kB)\n",
      "Collecting joblib>=1.2.0 (from scikit-learn->-r requirements.txt (line 3))\n",
      "  Downloading joblib-1.5.1-py3-none-any.whl.metadata (5.6 kB)\n",
      "Collecting threadpoolctl>=3.1.0 (from scikit-learn->-r requirements.txt (line 3))\n",
      "  Downloading threadpoolctl-3.6.0-py3-none-any.whl.metadata (13 kB)\n",
      "Requirement already satisfied: comm>=0.1.1 in /mnt/REPACSS/home/chniu/miniforge3/envs/jupyter_env/lib/python3.10/site-packages (from ipykernel->-r requirements.txt (line 4)) (0.2.3)\n",
      "Requirement already satisfied: debugpy>=1.6.5 in /mnt/REPACSS/home/chniu/miniforge3/envs/jupyter_env/lib/python3.10/site-packages (from ipykernel->-r requirements.txt (line 4)) (1.8.16)\n",
      "Requirement already satisfied: ipython>=7.23.1 in /mnt/REPACSS/home/chniu/miniforge3/envs/jupyter_env/lib/python3.10/site-packages (from ipykernel->-r requirements.txt (line 4)) (8.37.0)\n",
      "Requirement already satisfied: jupyter-client>=8.0.0 in /mnt/REPACSS/home/chniu/miniforge3/envs/jupyter_env/lib/python3.10/site-packages (from ipykernel->-r requirements.txt (line 4)) (8.6.3)\n",
      "Requirement already satisfied: jupyter-core!=5.0.*,>=4.12 in /mnt/REPACSS/home/chniu/miniforge3/envs/jupyter_env/lib/python3.10/site-packages (from ipykernel->-r requirements.txt (line 4)) (5.8.1)\n",
      "Requirement already satisfied: matplotlib-inline>=0.1 in /mnt/REPACSS/home/chniu/miniforge3/envs/jupyter_env/lib/python3.10/site-packages (from ipykernel->-r requirements.txt (line 4)) (0.1.7)\n",
      "Requirement already satisfied: nest-asyncio>=1.4 in /mnt/REPACSS/home/chniu/miniforge3/envs/jupyter_env/lib/python3.10/site-packages (from ipykernel->-r requirements.txt (line 4)) (1.6.0)\n",
      "Requirement already satisfied: packaging>=22 in /mnt/REPACSS/home/chniu/miniforge3/envs/jupyter_env/lib/python3.10/site-packages (from ipykernel->-r requirements.txt (line 4)) (25.0)\n",
      "Requirement already satisfied: psutil>=5.7 in /mnt/REPACSS/home/chniu/miniforge3/envs/jupyter_env/lib/python3.10/site-packages (from ipykernel->-r requirements.txt (line 4)) (7.0.0)\n",
      "Requirement already satisfied: pyzmq>=25 in /mnt/REPACSS/home/chniu/miniforge3/envs/jupyter_env/lib/python3.10/site-packages (from ipykernel->-r requirements.txt (line 4)) (27.0.1)\n",
      "Requirement already satisfied: tornado>=6.2 in /mnt/REPACSS/home/chniu/miniforge3/envs/jupyter_env/lib/python3.10/site-packages (from ipykernel->-r requirements.txt (line 4)) (6.5.1)\n",
      "Requirement already satisfied: traitlets>=5.4.0 in /mnt/REPACSS/home/chniu/miniforge3/envs/jupyter_env/lib/python3.10/site-packages (from ipykernel->-r requirements.txt (line 4)) (5.14.3)\n",
      "Collecting contourpy>=1.0.1 (from matplotlib->-r requirements.txt (line 5))\n",
      "  Downloading contourpy-1.3.2-cp310-cp310-manylinux_2_17_x86_64.manylinux2014_x86_64.whl.metadata (5.5 kB)\n",
      "Collecting cycler>=0.10 (from matplotlib->-r requirements.txt (line 5))\n",
      "  Downloading cycler-0.12.1-py3-none-any.whl.metadata (3.8 kB)\n",
      "Collecting fonttools>=4.22.0 (from matplotlib->-r requirements.txt (line 5))\n",
      "  Downloading fonttools-4.59.0-cp310-cp310-manylinux2014_x86_64.manylinux_2_17_x86_64.whl.metadata (107 kB)\n",
      "Collecting kiwisolver>=1.3.1 (from matplotlib->-r requirements.txt (line 5))\n",
      "  Downloading kiwisolver-1.4.8-cp310-cp310-manylinux_2_12_x86_64.manylinux2010_x86_64.whl.metadata (6.2 kB)\n",
      "Collecting pyparsing>=2.3.1 (from matplotlib->-r requirements.txt (line 5))\n",
      "  Downloading pyparsing-3.2.3-py3-none-any.whl.metadata (5.0 kB)\n",
      "Requirement already satisfied: python-dateutil>=2.7 in /mnt/REPACSS/home/chniu/miniforge3/envs/jupyter_env/lib/python3.10/site-packages (from matplotlib->-r requirements.txt (line 5)) (2.9.0.post0)\n",
      "Requirement already satisfied: decorator in /mnt/REPACSS/home/chniu/miniforge3/envs/jupyter_env/lib/python3.10/site-packages (from ipython>=7.23.1->ipykernel->-r requirements.txt (line 4)) (5.2.1)\n",
      "Requirement already satisfied: exceptiongroup in /mnt/REPACSS/home/chniu/miniforge3/envs/jupyter_env/lib/python3.10/site-packages (from ipython>=7.23.1->ipykernel->-r requirements.txt (line 4)) (1.3.0)\n",
      "Requirement already satisfied: jedi>=0.16 in /mnt/REPACSS/home/chniu/miniforge3/envs/jupyter_env/lib/python3.10/site-packages (from ipython>=7.23.1->ipykernel->-r requirements.txt (line 4)) (0.19.2)\n",
      "Requirement already satisfied: pexpect>4.3 in /mnt/REPACSS/home/chniu/miniforge3/envs/jupyter_env/lib/python3.10/site-packages (from ipython>=7.23.1->ipykernel->-r requirements.txt (line 4)) (4.9.0)\n",
      "Requirement already satisfied: prompt_toolkit<3.1.0,>=3.0.41 in /mnt/REPACSS/home/chniu/miniforge3/envs/jupyter_env/lib/python3.10/site-packages (from ipython>=7.23.1->ipykernel->-r requirements.txt (line 4)) (3.0.51)\n",
      "Requirement already satisfied: pygments>=2.4.0 in /mnt/REPACSS/home/chniu/miniforge3/envs/jupyter_env/lib/python3.10/site-packages (from ipython>=7.23.1->ipykernel->-r requirements.txt (line 4)) (2.19.2)\n",
      "Requirement already satisfied: stack_data in /mnt/REPACSS/home/chniu/miniforge3/envs/jupyter_env/lib/python3.10/site-packages (from ipython>=7.23.1->ipykernel->-r requirements.txt (line 4)) (0.6.3)\n",
      "Requirement already satisfied: typing_extensions>=4.6 in /mnt/REPACSS/home/chniu/miniforge3/envs/jupyter_env/lib/python3.10/site-packages (from ipython>=7.23.1->ipykernel->-r requirements.txt (line 4)) (4.14.1)\n",
      "Requirement already satisfied: wcwidth in /mnt/REPACSS/home/chniu/miniforge3/envs/jupyter_env/lib/python3.10/site-packages (from prompt_toolkit<3.1.0,>=3.0.41->ipython>=7.23.1->ipykernel->-r requirements.txt (line 4)) (0.2.13)\n",
      "Requirement already satisfied: parso<0.9.0,>=0.8.4 in /mnt/REPACSS/home/chniu/miniforge3/envs/jupyter_env/lib/python3.10/site-packages (from jedi>=0.16->ipython>=7.23.1->ipykernel->-r requirements.txt (line 4)) (0.8.4)\n",
      "Requirement already satisfied: platformdirs>=2.5 in /mnt/REPACSS/home/chniu/miniforge3/envs/jupyter_env/lib/python3.10/site-packages (from jupyter-core!=5.0.*,>=4.12->ipykernel->-r requirements.txt (line 4)) (4.3.8)\n",
      "Requirement already satisfied: ptyprocess>=0.5 in /mnt/REPACSS/home/chniu/miniforge3/envs/jupyter_env/lib/python3.10/site-packages (from pexpect>4.3->ipython>=7.23.1->ipykernel->-r requirements.txt (line 4)) (0.7.0)\n",
      "Requirement already satisfied: six>=1.5 in /mnt/REPACSS/home/chniu/miniforge3/envs/jupyter_env/lib/python3.10/site-packages (from python-dateutil>=2.7->matplotlib->-r requirements.txt (line 5)) (1.17.0)\n",
      "Requirement already satisfied: executing>=1.2.0 in /mnt/REPACSS/home/chniu/miniforge3/envs/jupyter_env/lib/python3.10/site-packages (from stack_data->ipython>=7.23.1->ipykernel->-r requirements.txt (line 4)) (2.2.0)\n",
      "Requirement already satisfied: asttokens>=2.1.0 in /mnt/REPACSS/home/chniu/miniforge3/envs/jupyter_env/lib/python3.10/site-packages (from stack_data->ipython>=7.23.1->ipykernel->-r requirements.txt (line 4)) (3.0.0)\n",
      "Requirement already satisfied: pure_eval in /mnt/REPACSS/home/chniu/miniforge3/envs/jupyter_env/lib/python3.10/site-packages (from stack_data->ipython>=7.23.1->ipykernel->-r requirements.txt (line 4)) (0.2.3)\n",
      "Downloading pillow-11.3.0-cp310-cp310-manylinux_2_27_x86_64.manylinux_2_28_x86_64.whl (6.6 MB)\n",
      "\u001b[2K   \u001b[90m━━━━━━━━━━━━━━━━━━━━━━━━━━━━━━━━━━━━━━━━\u001b[0m \u001b[32m6.6/6.6 MB\u001b[0m \u001b[31m26.8 MB/s\u001b[0m  \u001b[33m0:00:00\u001b[0mm0:00:01\u001b[0m\n",
      "\u001b[?25hDownloading scikit_learn-1.7.1-cp310-cp310-manylinux2014_x86_64.manylinux_2_17_x86_64.whl (9.7 MB)\n",
      "\u001b[2K   \u001b[90m━━━━━━━━━━━━━━━━━━━━━━━━━━━━━━━━━━━━━━━━\u001b[0m \u001b[32m9.7/9.7 MB\u001b[0m \u001b[31m107.5 MB/s\u001b[0m  \u001b[33m0:00:00\u001b[0m\n",
      "\u001b[?25hDownloading matplotlib-3.10.5-cp310-cp310-manylinux2014_x86_64.manylinux_2_17_x86_64.whl (8.7 MB)\n",
      "\u001b[2K   \u001b[90m━━━━━━━━━━━━━━━━━━━━━━━━━━━━━━━━━━━━━━━━\u001b[0m \u001b[32m8.7/8.7 MB\u001b[0m \u001b[31m105.1 MB/s\u001b[0m  \u001b[33m0:00:00\u001b[0m\n",
      "\u001b[?25hDownloading contourpy-1.3.2-cp310-cp310-manylinux_2_17_x86_64.manylinux2014_x86_64.whl (325 kB)\n",
      "Downloading cycler-0.12.1-py3-none-any.whl (8.3 kB)\n",
      "Downloading fonttools-4.59.0-cp310-cp310-manylinux2014_x86_64.manylinux_2_17_x86_64.whl (4.8 MB)\n",
      "\u001b[2K   \u001b[90m━━━━━━━━━━━━━━━━━━━━━━━━━━━━━━━━━━━━━━━━\u001b[0m \u001b[32m4.8/4.8 MB\u001b[0m \u001b[31m29.1 MB/s\u001b[0m  \u001b[33m0:00:00\u001b[0m\n",
      "\u001b[?25hDownloading joblib-1.5.1-py3-none-any.whl (307 kB)\n",
      "Downloading kiwisolver-1.4.8-cp310-cp310-manylinux_2_12_x86_64.manylinux2010_x86_64.whl (1.6 MB)\n",
      "\u001b[2K   \u001b[90m━━━━━━━━━━━━━━━━━━━━━━━━━━━━━━━━━━━━━━━━\u001b[0m \u001b[32m1.6/1.6 MB\u001b[0m \u001b[31m98.7 MB/s\u001b[0m  \u001b[33m0:00:00\u001b[0m\n",
      "\u001b[?25hUsing cached numpy-2.2.6-cp310-cp310-manylinux_2_17_x86_64.manylinux2014_x86_64.whl (16.8 MB)\n",
      "Downloading pyparsing-3.2.3-py3-none-any.whl (111 kB)\n",
      "Downloading scipy-1.15.3-cp310-cp310-manylinux_2_17_x86_64.manylinux2014_x86_64.whl (37.7 MB)\n",
      "\u001b[2K   \u001b[90m━━━━━━━━━━━━━━━━━━━━━━━━━━━━━━━━━━━━━━━━\u001b[0m \u001b[32m37.7/37.7 MB\u001b[0m \u001b[31m113.3 MB/s\u001b[0m  \u001b[33m0:00:00\u001b[0m eta \u001b[36m0:00:01\u001b[0m\n",
      "\u001b[?25hDownloading threadpoolctl-3.6.0-py3-none-any.whl (18 kB)\n",
      "Installing collected packages: threadpoolctl, pyparsing, pillow, numpy, kiwisolver, joblib, fonttools, cycler, scipy, contourpy, scikit-learn, matplotlib\n",
      "\u001b[2K   \u001b[90m━━━━━━━━━━━━━━━━━━━━━━━━━━━━━━━━━━━━━━━━\u001b[0m \u001b[32m12/12\u001b[0m [matplotlib]2\u001b[0m [matplotlib]n]\n",
      "\u001b[1A\u001b[2KSuccessfully installed contourpy-1.3.2 cycler-0.12.1 fonttools-4.59.0 joblib-1.5.1 kiwisolver-1.4.8 matplotlib-3.10.5 numpy-2.2.6 pillow-11.3.0 pyparsing-3.2.3 scikit-learn-1.7.1 scipy-1.15.3 threadpoolctl-3.6.0\n"
     ]
    }
   ],
   "source": [
    "!pip install -r requirements.txt"
   ]
  },
  {
   "cell_type": "code",
   "execution_count": 45,
   "id": "2b36a465-0c16-4e5c-91bf-684024d61747",
   "metadata": {},
   "outputs": [],
   "source": [
    "from sklearn.manifold import TSNE\n",
    "import matplotlib.pyplot as plt\n",
    "import numpy as np\n"
   ]
  },
  {
   "cell_type": "markdown",
   "id": "cff5c072-27c0-4694-8569-c7275e19ee39",
   "metadata": {},
   "source": [
    "### Pull Embedding model"
   ]
  },
  {
   "cell_type": "code",
   "execution_count": 46,
   "id": "e3aba064-5b91-4b53-9f58-371c5f415e47",
   "metadata": {},
   "outputs": [],
   "source": [
    "LLM_API_URL=f'{ollama_url}/api/pull' # Notice the pull api endpoint\n",
    "payload={\"model\":'nomic-embed-text'}\n",
    "headers = {\"Content-Type\": \"application/json\"}\n",
    "response=requests.post(LLM_API_URL,headers=headers,data=json.dumps(payload))\n",
    "# API Header, Data you are sending"
   ]
  },
  {
   "cell_type": "markdown",
   "id": "2a547f1a-c619-4a40-99a3-572070e32cb9",
   "metadata": {},
   "source": [
    "### Getting Embeddings for each joke"
   ]
  },
  {
   "cell_type": "code",
   "execution_count": 47,
   "id": "d96f2e5b-72dd-42e5-851c-a5bec36d0cb9",
   "metadata": {},
   "outputs": [],
   "source": [
    "LLM_EMB_API = f'{ollama_url}/api/embed'\n",
    "\n",
    "# Initialize a list to store the resulting embedding vectors\n",
    "joke_embeddings = []\n",
    "\n",
    "# Iterate over each joke in the provided list\n",
    "for joke in jokes:\n",
    "    # Prepare the payload with the model name and input text\n",
    "    payload = {\n",
    "        \"model\": \"nomic-embed-text\",\n",
    "        \"input\": joke\n",
    "    }\n",
    "\n",
    "    # Send a POST request to the embedding API\n",
    "    response = requests.post(LLM_EMB_API, headers=headers, data=json.dumps(payload))\n",
    "\n",
    "    # Raise an exception if the request was unsuccessful\n",
    "    response.raise_for_status()\n",
    "\n",
    "    # Parse the JSON response\n",
    "    data = response.json()\n",
    "\n",
    "    # Extract the embeddings from the response\n",
    "    emb_list = data.get(\"embeddings\", [])\n",
    "\n",
    "    # Check if the response contains a single embedding vector\n",
    "    if emb_list and isinstance(emb_list[0], (float, int)):\n",
    "        # Convert the list to a NumPy array and append to the embeddings list\n",
    "        joke_embeddings.append(np.array(emb_list, dtype=np.float32))\n",
    "    else:\n",
    "        # If multiple embeddings are returned, convert each to a NumPy array and extend the list\n",
    "        joke_embeddings.extend(np.array(e, dtype=np.float32) for e in emb_list)\n",
    "\n"
   ]
  },
  {
   "cell_type": "markdown",
   "id": "2ad00fcd-dff4-4e8a-9d7b-f1a9c9706615",
   "metadata": {},
   "source": [
    "### Dimenionally reduce and Plot all in 2D"
   ]
  },
  {
   "cell_type": "code",
   "execution_count": 50,
   "id": "8a14812d-45af-4313-9887-3eafae78e003",
   "metadata": {},
   "outputs": [
    {
     "data": {
      "image/png": "[encoded data removed]",
      "text/plain": [
       "<Figure size 1000x700 with 1 Axes>"
      ]
     },
     "metadata": {},
     "output_type": "display_data"
    },
    {
     "name": "stdout",
     "output_type": "stream",
     "text": [
      "0: What kind of shoes to frogs wear? Open-toad sandals.\n",
      "1: I just built an ATM that only gives out coins. I don’t know why no one’s thought of it before: it just makes cents!\n",
      "2: Did I ever tell you about the time I went mushroom foraging? It’s a story with a morel at the end.\n",
      "3: What happened when two slices of bread went on a date? It was loaf at first sight.\n",
      "4: Why do crabs never volunteer? Because they're shell-fish.\n",
      "5: I had a quiet game of tennis today. There was no racket.\n",
      "6: What's a shark's favorite saying? \"Man overboard!\"\n",
      "7: What did one slice of bread say to the other before the race? You're toast!\n",
      "8: I poured some water over a duck's back yesterday. I don't think he cared.\n",
      "9: I'm such a good navigator, a self-driving car once asked me for directions.\n",
      "10: Why do melons have weddings? They cantelope.\n",
      "11: What did the bison say to his son when he left the ranch? Bi-son.\n",
      "12: Watch what you say around the egg whites. They can't take a yolk.\n",
      "13: I'm so good at fixing things, my motto is, \"If it is broke, I'll still fix it.\"\n",
      "14: Were did the pumpkins have their meeting? In the gourdroom.\n",
      "15: What's the best way to save your dad jokes? In a dadda-base.\n",
      "16: I got a new pen that can write under water. It can write other words too.\n",
      "17: My boss said “dress for the job you want, not for the job you have.” So I went in as Batman.\n",
      "18: I went to the aquarium this weekend, but I didn’t stay long. There’s something fishy about that place.\n",
      "19: Why can't dinosaurs clap their hands? Because they're extinct.\n",
      "20: I gave my handyman a to-do list, but he only did jobs 1, 3, and 5. Turns out he only does odd jobs.\n",
      "21: The Company may use derivative instruments to partially offset its business exposure to foreign exchange and interest rate risk. However, the Company may choose not to hedge certain exposures for a variety of reasons\n",
      "22: We are exposed to financial market risks, including changes in interest rates and currency exchange rates. To mitigate these risks, we may utilize derivative financial instruments, among other strategies. We do not use derivative financial instruments for speculative purposes.\n",
      "23: Check the appropriate box to designate whether you are a cat:\n",
      "o\tI am a cat.\n",
      "x\tI am not a cat.\n",
      " \n"
     ]
    }
   ],
   "source": [
    "# Stack the list of embedding vectors into a 2D NumPy array\n",
    "X = np.vstack(joke_embeddings)  # Shape: (n_jokes, embedding_dim)\n",
    "\n",
    "# Initialize t-SNE with desired parameters\n",
    "tsne = TSNE(n_components=2, perplexity=10, init='random', random_state=42)\n",
    "\n",
    "# Fit and transform the embeddings to 2D\n",
    "XY = tsne.fit_transform(X)\n",
    "\n",
    "# Create a scatter plot of the 2D embeddings\n",
    "plt.figure(figsize=(10, 7))\n",
    "plt.scatter(XY[:, 0], XY[:, 1], s=40, alpha=0.6)\n",
    "\n",
    "# Annotate each point with its index for clarity\n",
    "for idx, (x, y) in enumerate(XY):\n",
    "    plt.text(\n",
    "        x, y, str(idx),\n",
    "        fontsize=12,\n",
    "        ha='center', va='center',\n",
    "        bbox=dict(facecolor='white', alpha=0.6, edgecolor='none', pad=1)\n",
    "    )\n",
    "\n",
    "# Add plot titles and labels\n",
    "plt.title('t-SNE Projection of Joke Embeddings')\n",
    "plt.xlabel('Component 1')\n",
    "plt.ylabel('Component 2')\n",
    "plt.grid(True)\n",
    "plt.tight_layout()\n",
    "plt.show()\n",
    "\n",
    "# Display the list of jokes with their corresponding indices\n",
    "for i, joke in enumerate(jokes):\n",
    "    print(f\"{i}: {joke}\")"
   ]
  },
  {
   "cell_type": "code",
   "execution_count": null,
   "id": "eb140575-ad06-43e8-b3d2-8fb913aecbd9",
   "metadata": {},
   "outputs": [],
   "source": []
  }
 ],
 "metadata": {
  "kernelspec": {
   "display_name": "Python 3 (ipykernel)",
   "language": "python",
   "name": "python3"
  },
  "language_info": {
   "codemirror_mode": {
    "name": "ipython",
    "version": 3
   },
   "file_extension": ".py",
   "mimetype": "text/x-python",
   "name": "python",
   "nbconvert_exporter": "python",
   "pygments_lexer": "ipython3",
   "version": "3.10.18"
  }
 },
 "nbformat": 4,
 "nbformat_minor": 5
}
